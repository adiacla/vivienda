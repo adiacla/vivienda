{
  "cells": [
    {
      "cell_type": "markdown",
      "id": "a44ec196",
      "metadata": {
        "id": "a44ec196"
      },
      "source": [
        "#  Taller Evaluativo: Preprocesamiento y Análisis de Datos de Vivienda\n",
        "\n",
        "Este cuaderno constituye una **evaluación práctica** donde deberás aplicar técnicas de:\n",
        "\n",
        "- Limpieza de datos  \n",
        "- Análisis exploratorio (EDA)  \n",
        "- Imputación de valores nulos  \n",
        "- Tratamiento de valores atípicos  \n",
        "- Codificación de variables categóricas  \n",
        "- Escalado y reducción de características  \n",
        "- División en entrenamiento y prueba  \n",
        "\n",
        " **Instrucciones:**  \n",
        "1. Lee con atención cada enunciado (celdas con `#` o en texto explicativo).  \n",
        "2. Desarrolla el código solicitado en la celda correspondiente.  \n",
        "3. Después de cada celda de código, redacta una **conclusión o inferencia** en la celda de texto que sigue.  \n"
      ]
    },
    {
      "cell_type": "markdown",
      "id": "da91feb3",
      "metadata": {
        "id": "da91feb3",
        "papermill": {
          "duration": 0.040171,
          "end_time": "2022-04-21T13:47:12.778133",
          "exception": false,
          "start_time": "2022-04-21T13:47:12.737962",
          "status": "completed"
        },
        "tags": []
      },
      "source": [
        "# <center> ★ Machine Learning Project - Predicción del precio de la vivienda  ★"
      ]
    },
    {
      "cell_type": "markdown",
      "id": "bc67e533",
      "metadata": {
        "id": "bc67e533",
        "papermill": {
          "duration": 0.040774,
          "end_time": "2022-04-21T13:47:12.859583",
          "exception": false,
          "start_time": "2022-04-21T13:47:12.818809",
          "status": "completed"
        },
        "tags": []
      },
      "source": [
        "#### <center> ***Area: Sector Inmobiliario***"
      ]
    },
    {
      "cell_type": "markdown",
      "id": "491aa351",
      "metadata": {
        "id": "491aa351",
        "papermill": {
          "duration": 0.040251,
          "end_time": "2022-04-21T13:47:12.940319",
          "exception": false,
          "start_time": "2022-04-21T13:47:12.900068",
          "status": "completed"
        },
        "tags": []
      },
      "source": [
        "---"
      ]
    },
    {
      "cell_type": "markdown",
      "id": "7591e739",
      "metadata": {
        "id": "7591e739",
        "papermill": {
          "duration": 0.040129,
          "end_time": "2022-04-21T13:47:13.021464",
          "exception": false,
          "start_time": "2022-04-21T13:47:12.981335",
          "status": "completed"
        },
        "tags": []
      },
      "source": [
        "<center><img src=\"https://raw.githubusercontent.com/Masterx-AI/Project_Housing_Price_Prediction_/main/hs.jpg\" style=\"width: 700px;\"/>"
      ]
    },
    {
      "cell_type": "markdown",
      "id": "d45d924c",
      "metadata": {
        "id": "d45d924c",
        "papermill": {
          "duration": 0.042447,
          "end_time": "2022-04-21T13:47:13.104993",
          "exception": false,
          "start_time": "2022-04-21T13:47:13.062546",
          "status": "completed"
        },
        "tags": []
      },
      "source": [
        "---"
      ]
    },
    {
      "cell_type": "markdown",
      "id": "e5533a88",
      "metadata": {
        "id": "e5533a88",
        "papermill": {
          "duration": 0.040371,
          "end_time": "2022-04-21T13:47:13.189076",
          "exception": false,
          "start_time": "2022-04-21T13:47:13.148705",
          "status": "completed"
        },
        "tags": []
      },
      "source": [
        "## Taller Evaluativo - Preprocesamiento y Preparación de Datos  \n",
        "\n",
        "Este taller es la aplicación integral de lo aprendido en clase sobre análisis y transformación de datos, desde la **limpieza** hasta la **preparación para el modelado**.  \n",
        "\n",
        "El flujo de trabajo incluirá:  \n",
        "- **Análisis exploratorio de datos (EDA)**  \n",
        "- **Limpieza e imputación de valores nulos**  \n",
        "- **Tratamiento de valores atípicos**  \n",
        "- **Codificación de variables categóricas**  \n",
        "- **Creación y selección de características**  \n",
        "- **División del conjunto de datos**  \n",
        "- **Balanceo de clases**  \n",
        "\n",
        "Lenguaje y librerías a utilizar:  \n",
        "Python 3.9+ con **Pandas, NumPy, Seaborn, Matplotlib y Scikit-learn**.  \n",
        "Recomendamos trabajar en **Jupyter Notebook o Google Colab** para facilitar la ejecución y visualización de resultados.  \n",
        "\n",
        "Importante:  \n",
        "- Puedes apoyarte en la **IA de la plataforma** para completar el taller.  \n",
        "- **Cada línea de código debe estar precedida por una celda de texto (Markdown) donde expliques qué acción vas a realizar y por qué**.  \n",
        "\n",
        "---\n",
        "\n",
        "## 1. Cargar y explorar el dataset\n",
        "- Descargar el dataset proporcionado sobre clientes interesados en comprar vivienda.  \n",
        "- Inspeccionar las primeras filas y las dimensiones del DataFrame.  \n",
        "- Cambie los nombres de cada columna por su traducción en español.\n",
        "---\n",
        "\n",
        "## 2. Transformaciones iniciales\n",
        "- Verificar si hay nulos es imputar la mediana en valores, numericos y la moda en categoricos.\n",
        "- Realice el análisis estadistico\n",
        "- Realizar el análisis gráfico de barras de frecuencia\n",
        "- Eliminar las columnas que puede ser colineales usando correlación\n",
        "- Mostrar las primeras filas para verificar las transformaciones.  \n",
        "\n",
        "---\n",
        "\n",
        "## 3. Análisis Exploratorio de Datos (EDA)  \n",
        "- Realizar histogramas con densidad estimada (KDE) para *precio**.  \n",
        "- Identificar patrones, sesgos o valores atípicos.  \n",
        "\n",
        "---\n",
        "\n",
        "## 5. Manejo de valores atípicos (outliers)  \n",
        "- Aplicar el método **IQR (Rango Intercuartílico)** a total_gastos y credito_a_solicitar.  \n",
        "- Calcular límites inferior y superior:  \n",
        "  - Límite inferior = Q1 – 1.5 × IQR  \n",
        "  - Límite superior = Q3 + 1.5 × IQR  \n",
        "- Ajustar valores fuera de rango al límite correspondiente (sin eliminarlos).  \n",
        "\n",
        "---\n",
        "\n",
        "## 6. Codificación de variables categóricas  \n",
        "- Aplicar **One-Hot Encoding** a genero, estado_civil y tiene_credito.  \n",
        "- Eliminar las columnas originales.  \n",
        "- Explicar cómo la codificación ayuda al modelo.  \n",
        "\n",
        "---\n",
        "\n",
        "\n",
        "## 7. División del dataset  \n",
        "- Dividir en entrenamiento (train) y prueba (test) con un 80/20.  \n",
        "- Asegurar que la proporción de clases de compro_vivienda se mantenga en ambas particiones (**stratify**).  \n",
        "\n",
        "---\n",
        "## 8. Normalice train y luego el test\n",
        "\n",
        "- Usar **MinMax**.  \n",
        "- Reconstruir el DataFrame con las más relevantes.  \n",
        "---\n",
        "\n",
        "## 8. Selección de características  \n",
        "- Usar **VarianceThreshold** para eliminar variables con baja varianza.  \n",
        "- Reconstruir el DataFrame con las más relevantes.  \n",
        "\n",
        "\n",
        "\n",
        "---\n",
        "\n",
        "## Entrega  \n",
        "- Guardar el notebook en formato `.ipynb`.  \n",
        "- Subirlo a la plataforma del curso.  \n",
        "\n",
        "---\n",
        "\n",
        "Recuerda: Cada bloque de código tiene sus instrucciones pero después de ejecutar el codigo debe tener un texto que haga un análisis de los resultados más importantes de la celda previa, explicando **Por qué y que analisis y/o acción debe realizarse para obetener los datos limpios para generar la vista minable**.  \n",
        "\n",
        "\n",
        "\n",
        "### Referencia:\n",
        "Harrison, D. and Rubinfeld, D.L. (1978) Hedonic prices and the demand for clean air. J. Environ. Economics and Management 5, 81–102.\n"
      ]
    },
    {
      "cell_type": "markdown",
      "id": "c724776a",
      "metadata": {
        "id": "c724776a",
        "papermill": {
          "duration": 0.040936,
          "end_time": "2022-04-21T13:47:13.270834",
          "exception": false,
          "start_time": "2022-04-21T13:47:13.229898",
          "status": "completed"
        },
        "tags": []
      },
      "source": [
        "---"
      ]
    },
    {
      "cell_type": "markdown",
      "id": "4e5ae921",
      "metadata": {
        "id": "4e5ae921",
        "papermill": {
          "duration": 0.042532,
          "end_time": "2022-04-21T13:47:13.637341",
          "exception": false,
          "start_time": "2022-04-21T13:47:13.594809",
          "status": "completed"
        },
        "tags": []
      },
      "source": [
        "# <center>1. Data Exploration"
      ]
    },
    {
      "cell_type": "markdown",
      "id": "542397c0",
      "metadata": {
        "id": "542397c0"
      },
      "source": [
        "### Tarea: Importing the basic librarires"
      ]
    },
    {
      "cell_type": "code",
      "execution_count": null,
      "id": "84ea92ea",
      "metadata": {
        "id": "84ea92ea"
      },
      "outputs": [],
      "source": [
        "\n"
      ]
    },
    {
      "cell_type": "markdown",
      "id": "245f5956",
      "metadata": {
        "id": "245f5956"
      },
      "source": [
        "**Justificación técnica:** Describe aquí tu interpretación del resultado."
      ]
    },
    {
      "cell_type": "markdown",
      "id": "15cd440c",
      "metadata": {
        "id": "15cd440c"
      },
      "source": [
        "###  Tarea: Cargar el dataset y mostra las primeras muestras df.drop(['dteday','instant'], axis=1, inplace=True)"
      ]
    },
    {
      "cell_type": "code",
      "execution_count": null,
      "id": "d931b442",
      "metadata": {
        "id": "d931b442"
      },
      "outputs": [],
      "source": []
    },
    {
      "cell_type": "markdown",
      "id": "6a0db75d",
      "metadata": {
        "id": "6a0db75d"
      },
      "source": [
        "**Justificación técnica:** Describe aquí tu interpretación del resultado."
      ]
    },
    {
      "cell_type": "markdown",
      "id": "7b813603",
      "metadata": {
        "id": "7b813603"
      },
      "source": [
        "###Tarea: Liste las columnas"
      ]
    },
    {
      "cell_type": "code",
      "execution_count": null,
      "id": "93e19b3f",
      "metadata": {
        "id": "93e19b3f"
      },
      "outputs": [],
      "source": []
    },
    {
      "cell_type": "markdown",
      "id": "3d21b4a5",
      "metadata": {
        "id": "3d21b4a5"
      },
      "source": [
        " **Justificación técnica:** Describe aquí tu interpretación del resultado."
      ]
    },
    {
      "cell_type": "markdown",
      "id": "c3519c83",
      "metadata": {
        "id": "c3519c83"
      },
      "source": [
        "### Tarea: Traducción de nombres de columnas al español\n",
        "- Renombrar las columnas en el DataFrame Verificar los nuevos nombres"
      ]
    },
    {
      "cell_type": "code",
      "execution_count": null,
      "id": "277b1c2b",
      "metadata": {
        "id": "277b1c2b"
      },
      "outputs": [],
      "source": []
    },
    {
      "cell_type": "markdown",
      "id": "ef720bd6",
      "metadata": {
        "id": "ef720bd6"
      },
      "source": [
        "# **Conclusión:** Describe aquí tu interpretación del resultado."
      ]
    },
    {
      "cell_type": "markdown",
      "id": "a86f5ae8",
      "metadata": {
        "id": "a86f5ae8"
      },
      "source": [
        "### Tarea: Número de filas y columnas en el DataFrame"
      ]
    },
    {
      "cell_type": "code",
      "execution_count": null,
      "id": "adb1114a",
      "metadata": {
        "id": "adb1114a"
      },
      "outputs": [],
      "source": []
    },
    {
      "cell_type": "markdown",
      "id": "07138420",
      "metadata": {
        "id": "07138420"
      },
      "source": [
        "**Justificación técnica:** Describe aquí tu interpretación del resultado."
      ]
    },
    {
      "cell_type": "markdown",
      "id": "bf27b82f",
      "metadata": {
        "id": "bf27b82f"
      },
      "source": [
        "### Tarea: Verificando los tipos de datos de todas las columnas"
      ]
    },
    {
      "cell_type": "code",
      "execution_count": null,
      "id": "d037bd53",
      "metadata": {
        "id": "d037bd53"
      },
      "outputs": [],
      "source": []
    },
    {
      "cell_type": "markdown",
      "id": "186e8cc9",
      "metadata": {
        "id": "186e8cc9"
      },
      "source": [
        " **Justificación técnica:** Describe aquí tu interpretación del resultado."
      ]
    },
    {
      "cell_type": "markdown",
      "id": "12ba820b",
      "metadata": {
        "id": "12ba820b"
      },
      "source": [
        "### Tarea: Eliminación de filas duplicadas (si existen)\n",
        "\n",
        "- Guardamos las dimensiones originales del DataFrame\n",
        "- Eliminamos duplicados directamente en el DataFrame\n",
        "- Verificamos si hubo cambios"
      ]
    },
    {
      "cell_type": "code",
      "execution_count": null,
      "id": "34df136b",
      "metadata": {
        "id": "34df136b"
      },
      "outputs": [],
      "source": []
    },
    {
      "cell_type": "markdown",
      "id": "9fd790ec",
      "metadata": {
        "id": "9fd790ec"
      },
      "source": [
        "**Justificación técnica:** Describe aquí tu interpretación del resultado."
      ]
    },
    {
      "cell_type": "markdown",
      "id": "696c32a7",
      "metadata": {
        "id": "696c32a7"
      },
      "source": [
        "###  Tarea: Análisis de valores nulos en el DataFrame\n",
        "\n",
        "- Verificar el número total de valores nulos por columna\n",
        "- Verificar el porcentaje de valores nulos por columna\n",
        "- Visualizar los valores nulos con un gráfico de calor con mapa de calor"
      ]
    },
    {
      "cell_type": "code",
      "execution_count": null,
      "id": "12cae8c3",
      "metadata": {
        "id": "12cae8c3"
      },
      "outputs": [],
      "source": []
    },
    {
      "cell_type": "markdown",
      "id": "3dad1960",
      "metadata": {
        "id": "3dad1960"
      },
      "source": [
        "**Justificación técnica:** Describe aquí tu interpretación del resultado."
      ]
    },
    {
      "cell_type": "markdown",
      "id": "f9a0c39f",
      "metadata": {
        "id": "f9a0c39f"
      },
      "source": [
        "###  Tarea: Imputación de valores nulos\n",
        "- 1. Imputar la columna 'bedrooms' con el valor fijo de 4, ya se recolecto el valor real.\n",
        "- 2. Imputar bathrooms con valor de  1 stories con 3 ya se recolecto el valor real.\n",
        "- 3. Imputar el resto de columnas categóricas con la moda (valor más frecuente) por que los dato son discretos.\n",
        "- 4. (Opcional) Verificar nuevamente si aún quedan valores nulos"
      ]
    },
    {
      "cell_type": "code",
      "execution_count": null,
      "id": "fc0715e8",
      "metadata": {
        "id": "fc0715e8"
      },
      "outputs": [],
      "source": []
    },
    {
      "cell_type": "markdown",
      "id": "f14f2aa3",
      "metadata": {
        "id": "f14f2aa3"
      },
      "source": [
        " **Justificación técnica:** Describe aquí tu interpretación del resultado."
      ]
    },
    {
      "cell_type": "markdown",
      "id": "e1fa0d42",
      "metadata": {
        "id": "e1fa0d42"
      },
      "source": [
        "###  Tarea: Mostrar un resumen estadístico de las variables numéricas del DataFrame"
      ]
    },
    {
      "cell_type": "code",
      "execution_count": null,
      "id": "18e2b705",
      "metadata": {
        "id": "18e2b705"
      },
      "outputs": [],
      "source": []
    },
    {
      "cell_type": "markdown",
      "id": "1a101195",
      "metadata": {
        "id": "1a101195"
      },
      "source": [
        "**Justificación técnica:** Describe aquí tu interpretación del resultado."
      ]
    },
    {
      "cell_type": "markdown",
      "id": "d0a31bb1",
      "metadata": {
        "id": "d0a31bb1"
      },
      "source": [
        ":###  Tarea: Extraer las variables numéricas del DataFrame\n",
        "- Extraer las variables categóricas (objetos o tipo category)"
      ]
    },
    {
      "cell_type": "code",
      "execution_count": null,
      "id": "069d060e",
      "metadata": {
        "id": "069d060e"
      },
      "outputs": [],
      "source": []
    },
    {
      "cell_type": "markdown",
      "id": "3612d99a",
      "metadata": {
        "id": "3612d99a"
      },
      "source": [
        " **Justificación técnica:** Describe aquí tu interpretación del resultado."
      ]
    },
    {
      "cell_type": "markdown",
      "id": "4c33a6fa",
      "metadata": {
        "id": "4c33a6fa"
      },
      "source": [
        "###  Tarea: Muestre las primeras muestras de las variables categoricas"
      ]
    },
    {
      "cell_type": "code",
      "execution_count": null,
      "id": "29e26adc",
      "metadata": {
        "id": "29e26adc"
      },
      "outputs": [],
      "source": []
    },
    {
      "cell_type": "markdown",
      "id": "652617d2",
      "metadata": {
        "id": "652617d2"
      },
      "source": [
        "**Justificación técnica:** Describe aquí tu interpretación del resultado."
      ]
    },
    {
      "cell_type": "markdown",
      "id": "d2d1c917",
      "metadata": {
        "id": "d2d1c917"
      },
      "source": [
        "###  Tarea: Mostrar un resumen estadístico de las variables categóricas del DataFrame Esto incluye: cantidad de valores no nulos, número de categorías únicas, valor más frecuente (top) y frecuencia de ese valor."
      ]
    },
    {
      "cell_type": "code",
      "execution_count": null,
      "id": "31b0209a",
      "metadata": {
        "id": "31b0209a"
      },
      "outputs": [],
      "source": []
    },
    {
      "cell_type": "markdown",
      "id": "6972d832",
      "metadata": {
        "id": "6972d832"
      },
      "source": [
        " **Justificación técnica:** Describe aquí tu interpretación del resultado."
      ]
    },
    {
      "cell_type": "markdown",
      "id": "8bcfad72",
      "metadata": {
        "id": "8bcfad72"
      },
      "source": [
        "### Tarea: Verificar la cantidad de valores únicos en cada columna (cardinalidad de cada variable)"
      ]
    },
    {
      "cell_type": "code",
      "execution_count": null,
      "id": "8d50ab2d",
      "metadata": {
        "id": "8d50ab2d"
      },
      "outputs": [],
      "source": [
        "\n"
      ]
    },
    {
      "cell_type": "markdown",
      "id": "acc3f517",
      "metadata": {
        "id": "acc3f517"
      },
      "source": [
        "**Justificación técnica:** Describe aquí tu interpretación del resultado."
      ]
    },
    {
      "cell_type": "markdown",
      "id": "99940750",
      "metadata": {
        "id": "99940750"
      },
      "source": [
        "###  Tarea: Seleccionar todas las columnas excepto 'precio' y 'area'\n",
        "- Mostrar los valores únicos de cada columna seleccionada"
      ]
    },
    {
      "cell_type": "code",
      "execution_count": null,
      "id": "8b777c01",
      "metadata": {
        "id": "8b777c01"
      },
      "outputs": [],
      "source": []
    },
    {
      "cell_type": "markdown",
      "id": "13259629",
      "metadata": {
        "id": "13259629"
      },
      "source": [
        " **Justificación técnica:** Describe aquí tu interpretación del resultado."
      ]
    },
    {
      "cell_type": "markdown",
      "id": "53d7e5c8",
      "metadata": {
        "id": "53d7e5c8"
      },
      "source": [
        "###  Tarea: Seleccionar todas las columnas excepto 'precio' y 'area'\n",
        "- Mostrar la distribución de frecuencias de cada columna seleccionada"
      ]
    },
    {
      "cell_type": "code",
      "execution_count": null,
      "id": "ca1fc694",
      "metadata": {
        "id": "ca1fc694"
      },
      "outputs": [],
      "source": []
    },
    {
      "cell_type": "markdown",
      "id": "de112150",
      "metadata": {
        "id": "de112150"
      },
      "source": [
        "**Justificación técnica:** Describe aquí tu interpretación del resultado."
      ]
    },
    {
      "cell_type": "markdown",
      "id": "e06cb9b3",
      "metadata": {
        "id": "e06cb9b3"
      },
      "source": [
        "### Tarea: Seleccionar columnas excepto 'precio' y 'area'\n",
        "- Definir la cantidad de filas necesarias para graficar en 3 columnas\n",
        "- Crear figura Generar gráficos\n",
        "- Eliminar ejes vacíos si sobran"
      ]
    },
    {
      "cell_type": "code",
      "execution_count": null,
      "id": "9e096ae1",
      "metadata": {
        "id": "9e096ae1"
      },
      "outputs": [],
      "source": []
    },
    {
      "cell_type": "markdown",
      "id": "b5a6576f",
      "metadata": {
        "id": "b5a6576f"
      },
      "source": [
        " **Justificación técnica:** Describe aquí tu interpretación del resultado."
      ]
    },
    {
      "cell_type": "markdown",
      "id": "ddb83cfd",
      "metadata": {
        "id": "ddb83cfd"
      },
      "source": [
        "###  Tarea:  Numerización de variables binarias (yes/no) con OrdinalEncoder\n",
        "\n",
        "- Las variables binarias a numerizar\n",
        "- Definir transformador con OrdinalEncoder (yes=1, no=0)\n",
        "Aplicar la transformación solo a las columnas binarias Ajustar y transformar el DataFrame\n",
        "- Recuerda dejar el feature entero\n",
        "- Guardar el transformador entrenado"
      ]
    },
    {
      "cell_type": "code",
      "execution_count": null,
      "id": "b1d7a497",
      "metadata": {
        "id": "b1d7a497"
      },
      "outputs": [],
      "source": []
    },
    {
      "cell_type": "markdown",
      "id": "b70bb8c9",
      "metadata": {
        "id": "b70bb8c9"
      },
      "source": [
        "**Justificación técnica:** Describe aquí tu interpretación del resultado."
      ]
    },
    {
      "cell_type": "markdown",
      "id": "77c1237e",
      "metadata": {
        "id": "77c1237e"
      },
      "source": [
        "###  Tarea:  Numerización de 'estado_amueblado' con OrdinalEncoder y diccionario -\n",
        "\n",
        "- Definir el orden deseado según el diccionario\n",
        "- Crear el encoder con el orden definido Ajustar y transformar la columna\n",
        "- Recuerda dejar el feature entero\n",
        "- Guardar el encoder para persistencia Verificar la transformación"
      ]
    },
    {
      "cell_type": "code",
      "execution_count": null,
      "id": "498a0a8b",
      "metadata": {
        "id": "498a0a8b"
      },
      "outputs": [],
      "source": []
    },
    {
      "cell_type": "markdown",
      "id": "e1d04251",
      "metadata": {
        "id": "e1d04251"
      },
      "source": [
        " **Justificación técnica:** Describe aquí tu interpretación del resultado."
      ]
    },
    {
      "cell_type": "code",
      "execution_count": null,
      "id": "0c0b7a99",
      "metadata": {
        "id": "0c0b7a99"
      },
      "outputs": [],
      "source": [
        "target = 'precio'\n",
        "features = [i for i in df.columns if i not in [target]]"
      ]
    },
    {
      "cell_type": "markdown",
      "id": "a99e3ef7",
      "metadata": {
        "id": "a99e3ef7"
      },
      "source": [
        "### Tarea: Mapa de correlación de todas las variables numéricas\n",
        "\n",
        "- Calcular la matriz de correlación\n",
        "- Configurar el tamaño de la figura\n",
        "- Crear el mapa de calor Título del gráfico\n"
      ]
    },
    {
      "cell_type": "code",
      "execution_count": null,
      "id": "f7531b52",
      "metadata": {
        "id": "f7531b52"
      },
      "outputs": [],
      "source": []
    },
    {
      "cell_type": "markdown",
      "id": "02ec2eea",
      "metadata": {
        "id": "02ec2eea"
      },
      "source": [
        "**Justificación técnica:** Describe aquí tu interpretación del resultado."
      ]
    },
    {
      "cell_type": "markdown",
      "id": "c748178a",
      "metadata": {
        "id": "c748178a",
        "papermill": {
          "duration": 0.04273,
          "end_time": "2022-04-21T13:47:16.129981",
          "exception": false,
          "start_time": "2022-04-21T13:47:16.087251",
          "status": "completed"
        },
        "tags": []
      },
      "source": [
        "---"
      ]
    },
    {
      "cell_type": "markdown",
      "id": "7b3884a8",
      "metadata": {
        "id": "7b3884a8",
        "papermill": {
          "duration": 0.043872,
          "end_time": "2022-04-21T13:47:16.216976",
          "exception": false,
          "start_time": "2022-04-21T13:47:16.173104",
          "status": "completed"
        },
        "tags": []
      },
      "source": [
        "# <center> 2. Exploratory Data Analysis (EDA)"
      ]
    },
    {
      "cell_type": "markdown",
      "id": "2ef82522",
      "metadata": {
        "id": "2ef82522"
      },
      "source": [
        "### Tarea:  Analizar la distribución de la variable objetivo con 30 bins usado curva de densidad\n",
        "Histograma con curva de densidad"
      ]
    },
    {
      "cell_type": "code",
      "execution_count": null,
      "id": "33d2597e",
      "metadata": {
        "id": "33d2597e"
      },
      "outputs": [],
      "source": []
    },
    {
      "cell_type": "markdown",
      "id": "7950b270",
      "metadata": {
        "id": "7950b270"
      },
      "source": [
        " **Justificación técnica:** Describe aquí tu interpretación del resultado."
      ]
    },
    {
      "cell_type": "markdown",
      "id": "a0072e45",
      "metadata": {
        "id": "a0072e45"
      },
      "source": [
        "###  Tarea: Calcular el sesgo (skewness) de la variable 'precio'"
      ]
    },
    {
      "cell_type": "code",
      "execution_count": null,
      "id": "19204507",
      "metadata": {
        "id": "19204507"
      },
      "outputs": [],
      "source": []
    },
    {
      "cell_type": "markdown",
      "id": "e05d2dae",
      "metadata": {
        "id": "e05d2dae"
      },
      "source": [
        " **Justificación técnica:** Describe aquí tu interpretación del resultado."
      ]
    },
    {
      "cell_type": "markdown",
      "id": "5e9f2278",
      "metadata": {
        "id": "5e9f2278"
      },
      "source": [
        "###  Tarea:  Calcular la curtosis (kurtosis) de la variable 'precio'\n"
      ]
    },
    {
      "cell_type": "code",
      "execution_count": null,
      "id": "9b6b1e9c",
      "metadata": {
        "id": "9b6b1e9c"
      },
      "outputs": [],
      "source": []
    },
    {
      "cell_type": "markdown",
      "id": "557545b7",
      "metadata": {
        "id": "557545b7"
      },
      "source": [
        " **Justificación técnica:** Describe aquí tu interpretación del resultado."
      ]
    },
    {
      "cell_type": "markdown",
      "source": [
        " Tarea:  Calcular la media, mediana y moda\n"
      ],
      "metadata": {
        "id": "W0HZpoIpKFuT"
      },
      "id": "W0HZpoIpKFuT"
    },
    {
      "cell_type": "markdown",
      "id": "e66e0d30",
      "metadata": {
        "id": "e66e0d30"
      },
      "source": [
        " Tarea:  Calcular la curtosis (kurtosis) de la variable 'precio'\n",
        "\n",
        "\n",
        "```\n",
        "# This is formatted as code\n",
        "```\n",
        "\n",
        " **Justificación técnica:** Describe aquí tu interpretación del resultado."
      ]
    },
    {
      "cell_type": "markdown",
      "id": "7012b3a2",
      "metadata": {
        "id": "7012b3a2"
      },
      "source": [
        "###  Tarea:   Diagramas de caja y bigotes (3 por fila) excluyendo variables binarias\n",
        "- Variables a excluir Seleccionar solo columnas numéricas, excluyendo las binarias\n",
        "- Definir número de columnas en la cuadrícula\n",
        "- Crear subplots Graficar cada boxplot\n",
        "- Eliminar ejes vacíos"
      ]
    },
    {
      "cell_type": "code",
      "execution_count": null,
      "id": "6abfea22",
      "metadata": {
        "id": "6abfea22"
      },
      "outputs": [],
      "source": []
    },
    {
      "cell_type": "markdown",
      "id": "2faf25a1",
      "metadata": {
        "id": "2faf25a1"
      },
      "source": [
        " **Justificación técnica:** Describe aquí tu interpretación del resultado."
      ]
    },
    {
      "cell_type": "markdown",
      "id": "ab1acf1e",
      "metadata": {
        "id": "ab1acf1e"
      },
      "source": [
        "### Tarea: Eliminar outliers en la variable 'precio' usando IQR\n",
        "- Calcular Q1 y Q3 Definir límite superior\n",
        "- Filtrar filas (mantener solo precios dentro del rango aceptable)"
      ]
    },
    {
      "cell_type": "code",
      "execution_count": null,
      "id": "a045f969",
      "metadata": {
        "id": "a045f969"
      },
      "outputs": [],
      "source": []
    },
    {
      "cell_type": "markdown",
      "id": "4951362c",
      "metadata": {
        "id": "4951362c"
      },
      "source": [
        " **Justificación técnica:** Describe aquí tu interpretación del resultado."
      ]
    },
    {
      "cell_type": "markdown",
      "id": "bda7cc22",
      "metadata": {
        "id": "bda7cc22"
      },
      "source": [
        "###  Tarea: Boxplot de la variable 'precio'"
      ]
    },
    {
      "cell_type": "code",
      "execution_count": null,
      "id": "a2d40eee",
      "metadata": {
        "id": "a2d40eee"
      },
      "outputs": [],
      "source": []
    },
    {
      "cell_type": "markdown",
      "id": "72e4f87f",
      "metadata": {
        "id": "72e4f87f"
      },
      "source": [
        "**Justificación técnica:** Describe aquí tu interpretación del resultado."
      ]
    },
    {
      "cell_type": "markdown",
      "source": [
        "###Tarea: Nuevamente verifiquemos cómo quedó la distribución de frecuencia de la variable 'precio'"
      ],
      "metadata": {
        "id": "iilwfsgYc_F7"
      },
      "id": "iilwfsgYc_F7"
    },
    {
      "cell_type": "code",
      "source": [],
      "metadata": {
        "id": "QN6ZV-c_dLrK"
      },
      "id": "QN6ZV-c_dLrK",
      "execution_count": null,
      "outputs": []
    },
    {
      "cell_type": "markdown",
      "id": "c6c1e0b0",
      "metadata": {
        "id": "c6c1e0b0"
      },
      "source": [
        " **Justificación técnica:** Describe aquí tu interpretación del resultado."
      ]
    },
    {
      "cell_type": "markdown",
      "id": "f9282a71",
      "metadata": {
        "id": "f9282a71",
        "papermill": {
          "duration": 0.059556,
          "end_time": "2022-04-21T13:47:31.615332",
          "exception": false,
          "start_time": "2022-04-21T13:47:31.555776",
          "status": "completed"
        },
        "tags": []
      },
      "source": [
        "# <center> 4. Data Manipulation"
      ]
    },
    {
      "cell_type": "markdown",
      "id": "3adbc620",
      "metadata": {
        "id": "3adbc620"
      },
      "source": [
        "###  Tarea: División del dataset en conjuntos de entrenamiento y prueba\n",
        "\n",
        "- Reemplazar espacios en los nombres de columnas por \"_\"\n",
        "- Separar variables predictoras (X) y variable objetivo (Y)\n",
        "- Dividir los datos (80% entrenamiento, 20% prueba)"
      ]
    },
    {
      "cell_type": "code",
      "execution_count": null,
      "id": "64e7a2fd",
      "metadata": {
        "id": "64e7a2fd"
      },
      "outputs": [],
      "source": []
    },
    {
      "cell_type": "markdown",
      "id": "f69055d4",
      "metadata": {
        "id": "f69055d4"
      },
      "source": [
        " **Justificación técnica:** Describe aquí tu interpretación del resultado."
      ]
    },
    {
      "cell_type": "markdown",
      "id": "531f2577",
      "metadata": {
        "id": "531f2577"
      },
      "source": [
        "### Tarea:  Escalado de características (Estandarización)\n",
        "- Inicializamos el escalador\n",
        "- Estandarización del conjunto de entrenamiento\n",
        "- Estandarización del conjunto de prueba ----"
      ]
    },
    {
      "cell_type": "code",
      "execution_count": null,
      "id": "25047e24",
      "metadata": {
        "id": "25047e24"
      },
      "outputs": [],
      "source": []
    },
    {
      "cell_type": "markdown",
      "id": "939a3e83",
      "metadata": {
        "id": "939a3e83"
      },
      "source": [
        " **Justificación técnica:** Describe aquí tu interpretación del resultado."
      ]
    },
    {
      "cell_type": "markdown",
      "id": "3641461f",
      "metadata": {
        "id": "3641461f"
      },
      "source": [
        "### Tarea:   Guardar y cargar el modelo de normalización\n",
        "- Guardar el modelo entrenado de StandardScaler"
      ]
    },
    {
      "cell_type": "code",
      "execution_count": null,
      "id": "31c8532c",
      "metadata": {
        "id": "31c8532c"
      },
      "outputs": [],
      "source": []
    },
    {
      "cell_type": "markdown",
      "id": "c30e447a",
      "metadata": {
        "id": "c30e447a"
      },
      "source": [
        "**Justificación técnica:** Describe aquí tu interpretación del resultado."
      ]
    },
    {
      "cell_type": "markdown",
      "id": "59b2cb07",
      "metadata": {
        "id": "59b2cb07"
      },
      "source": [
        "###  Tarea:  Varianza en decimales con 6 cifras\n"
      ]
    },
    {
      "cell_type": "code",
      "execution_count": null,
      "id": "b5a5f38f",
      "metadata": {
        "id": "b5a5f38f"
      },
      "outputs": [],
      "source": []
    },
    {
      "cell_type": "markdown",
      "id": "64404d41",
      "metadata": {
        "id": "64404d41"
      },
      "source": [
        " **Justificación técnica:** Describe aquí tu interpretación del resultado."
      ]
    },
    {
      "cell_type": "markdown",
      "id": "ba412926",
      "metadata": {
        "id": "ba412926",
        "papermill": {
          "duration": 0.067763,
          "end_time": "2022-04-21T13:47:32.155931",
          "exception": false,
          "start_time": "2022-04-21T13:47:32.088168",
          "status": "completed"
        },
        "tags": []
      },
      "source": [
        "---"
      ]
    },
    {
      "cell_type": "markdown",
      "id": "e87fe4cc",
      "metadata": {
        "id": "e87fe4cc"
      },
      "source": [
        "### Tarea:  Reducción de características con VarianceThreshold\n",
        "\n",
        "- Definir el umbral (ej: 0.01)\n",
        "- Ajustar en los datos normalizados de entrenamiento Columnas seleccionadas\n",
        "- Convertir a DataFrame"
      ]
    },
    {
      "cell_type": "code",
      "execution_count": null,
      "id": "4a1e6245",
      "metadata": {
        "id": "4a1e6245"
      },
      "outputs": [],
      "source": []
    },
    {
      "cell_type": "markdown",
      "id": "6a9bc3c4",
      "metadata": {
        "id": "6a9bc3c4"
      },
      "source": [
        "**Justificación técnica:** Describe aquí tu interpretación del resultado."
      ]
    },
    {
      "cell_type": "markdown",
      "source": [
        "# <font color=\"green\"> Conclusión General --Obligatorio--</font>\n",
        "\n",
        "*Agrega una sección al final de tu script donde resumas los principales pasos realizados, las decisiones clave tomadas y el estado final del dataset preprocesado. Esto ayudará a otros a entender tu trabajo y a reutilizar tu código más fácilmente.\n",
        "Podrías mencionar posibles pasos futuros, como la selección de características o la construcción de modelos.*"
      ],
      "metadata": {
        "id": "DNtqxJGHa27L"
      },
      "id": "DNtqxJGHa27L"
    },
    {
      "cell_type": "markdown",
      "id": "681328e6",
      "metadata": {
        "id": "681328e6"
      },
      "source": [
        "### Tarea: <<<------------------THE END------------------------->>>"
      ]
    }
  ],
  "metadata": {
    "colab": {
      "provenance": []
    },
    "language_info": {
      "name": "python"
    },
    "kernelspec": {
      "name": "python3",
      "display_name": "Python 3"
    }
  },
  "nbformat": 4,
  "nbformat_minor": 5
}