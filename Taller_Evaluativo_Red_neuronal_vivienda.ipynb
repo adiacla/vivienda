{
  "cells": [
    {
      "cell_type": "markdown",
      "id": "a44ec196",
      "metadata": {
        "id": "a44ec196"
      },
      "source": [
        "#Taller Evaluativo: Predicción de Precios de Vivienda con Redes Neuronales\n",
        "\n",
        "Este cuaderno constituye una evaluación práctica en la que deberás aplicar técnicas de preprocesamiento de datos y construir un modelo de red neuronal para predecir precios de vivienda.\n",
        "\n",
        "El objetivo principal es que, además de preparar los datos adecuadamente, implementes y optimices un modelo de red neuronal explorando varios hiperparámetros, para identificar la configuración que mejor se ajuste al problema.\n",
        "\n",
        "## **Aspectos a desarrollar**\n",
        "**1. Preprocesamiento de los datos**\n",
        "\n",
        "Análisis exploratorio de datos (EDA)\n",
        "\n",
        "Explora la distribución de las variables.\n",
        "\n",
        "Identifica patrones, correlaciones y relaciones relevantes con el precio de la vivienda.\n",
        "\n",
        "Imputación de valores nulos\n",
        "\n",
        "Analiza qué variables presentan datos faltantes.\n",
        "\n",
        "Aplica estrategias apropiadas (media, mediana, moda, interpolación, etc.).\n",
        "\n",
        "Tratamiento de valores atípicos (outliers)\n",
        "\n",
        "Detecta outliers en variables clave.\n",
        "\n",
        "Decide si eliminarlos o transformarlos, justificando tu elección.\n",
        "\n",
        "Escalado de variables\n",
        "\n",
        "Normaliza o estandariza las variables según corresponda.\n",
        "\n",
        "Explica la importancia de escalar antes de entrenar la red neuronal.\n",
        "\n",
        "División en conjuntos de entrenamiento y prueba\n",
        "\n",
        "Reserva una parte de los datos para evaluar el desempeño del modelo.\n",
        "\n",
        "Justifica el porcentaje usado (ej. 70%-30%, 80%-20%).\n",
        "\n",
        "**2. Modelado con redes neuronales**\n",
        "\n",
        "Implementación del modelo\n",
        "\n",
        "Usa Keras (TensorFlow) para construir un modelo Secuencial.\n",
        "\n",
        "Incluye capas densas (Dense) con activación ReLU en las capas ocultas.\n",
        "\n",
        "La capa de salida será lineal (para regresión).\n",
        "\n",
        "Exploración de hiperparámetros\n",
        "Considera las siguientes combinaciones:\n",
        "\n",
        "Learning rate: entre 0.001 y 0.1, con incrementos de 0.03.\n",
        "\n",
        "Número de capas ocultas: 1, 2 o 3.\n",
        "\n",
        "Número de neuronas por capa: 16, 32 o 64.\n",
        "\n",
        "Epocas 50 y 100\n",
        "\n",
        "Batch Size de 64 y 32\n",
        "\n",
        "**Optimización de hiperparámetros**\n",
        "\n",
        "Configura una función que pruebe todas las combinaciones posibles.\n",
        "\n",
        "Entrena cada modelo y guarda las métricas de desempeño (ej. MSE, MAE).\n",
        "\n",
        "Evalúa cuál combinación produce el menor error en el conjunto de validación.\n",
        "\n",
        "**3. Informe y conclusiones**\n",
        "\n",
        "Después de cada bloque de código, incluye una celda de texto con tus conclusiones:\n",
        "\n",
        "Describe los hallazgos del preprocesamiento.\n",
        "\n",
        "Analiza cómo afectaron los valores nulos, outliers y el escalado al modelo.\n",
        "\n",
        "Resume los resultados de la búsqueda de hiperparámetros.\n",
        "\n",
        "Preguntas guía para el informe final:\n",
        "\n",
        "¿Qué combinación de hiperparámetros dio el mejor resultado?\n",
        "\n",
        "¿Cómo afectó el número de capas y neuronas al desempeño del modelo?\n",
        "\n",
        "¿Qué tan sensible fue el modelo al learning rate?\n",
        "\n",
        "¿Hubo algún patrón interesante entre las variables y el precio de la vivienda que afectó la predicción?"
      ]
    },
    {
      "cell_type": "markdown",
      "id": "da91feb3",
      "metadata": {
        "id": "da91feb3"
      },
      "source": [
        "# <center> ★ Neural Network - Predicción del precio de la vivienda  ★"
      ]
    },
    {
      "cell_type": "markdown",
      "id": "bc67e533",
      "metadata": {
        "id": "bc67e533"
      },
      "source": [
        "#### <center> ***Area: Sector Inmobiliario***"
      ]
    },
    {
      "cell_type": "markdown",
      "id": "491aa351",
      "metadata": {
        "id": "491aa351"
      },
      "source": [
        "---"
      ]
    },
    {
      "cell_type": "markdown",
      "id": "7591e739",
      "metadata": {
        "id": "7591e739"
      },
      "source": [
        "<center><img src=\"https://raw.githubusercontent.com/Masterx-AI/Project_Housing_Price_Prediction_/main/hs.jpg\" style=\"width: 700px;\"/>"
      ]
    },
    {
      "cell_type": "markdown",
      "id": "d45d924c",
      "metadata": {
        "id": "d45d924c"
      },
      "source": [
        "---"
      ]
    },
    {
      "cell_type": "markdown",
      "id": "c724776a",
      "metadata": {
        "id": "c724776a"
      },
      "source": [
        "---"
      ]
    },
    {
      "cell_type": "markdown",
      "id": "4e5ae921",
      "metadata": {
        "id": "4e5ae921"
      },
      "source": [
        "# <center>1. Data Exploration"
      ]
    },
    {
      "cell_type": "markdown",
      "id": "542397c0",
      "metadata": {
        "id": "542397c0"
      },
      "source": [
        "### Tarea: Importing the basic librarires"
      ]
    },
    {
      "cell_type": "code",
      "execution_count": null,
      "id": "84ea92ea",
      "metadata": {
        "id": "84ea92ea"
      },
      "outputs": [],
      "source": [
        "\n",
        "import os\n",
        "import math\n",
        "import numpy as np\n",
        "import pandas as pd\n",
        "import seaborn as sns\n",
        "from datetime import datetime\n",
        "from IPython.display import display\n",
        "\n",
        "from sklearn.preprocessing import StandardScaler\n",
        "from sklearn.model_selection import train_test_split\n",
        "from sklearn.preprocessing import OrdinalEncoder\n",
        "from sklearn.compose import ColumnTransformer\n",
        "import joblib\n",
        "\n",
        "\n",
        "import itertools\n",
        "import tensorflow as tf\n",
        "from tensorflow.keras.models import Sequential\n",
        "from tensorflow.keras.layers import Dense\n",
        "from tensorflow.keras.optimizers import Adam\n",
        "from tensorflow.keras.callbacks import EarlyStopping, TensorBoard\n",
        "import pandas as pd\n",
        "from sklearn.model_selection import train_test_split\n",
        "from sklearn.metrics import mean_squared_error, mean_absolute_error\n",
        "\n",
        "\n",
        "from sklearn.model_selection import KFold\n",
        "from datetime import datetime\n",
        "import os\n",
        "\n",
        "import matplotlib.pyplot as plt\n",
        "import seaborn as sns\n",
        "\n",
        "\n",
        "import matplotlib.pyplot as plt\n",
        "plt.rcParams['figure.figsize'] = [10,6]\n",
        "\n",
        "import warnings\n",
        "warnings.filterwarnings('ignore')"
      ]
    },
    {
      "cell_type": "markdown",
      "id": "245f5956",
      "metadata": {
        "id": "245f5956"
      },
      "source": [
        "**Conclusión:** Describe aquí tu interpretación del resultado."
      ]
    },
    {
      "cell_type": "markdown",
      "id": "15cd440c",
      "metadata": {
        "id": "15cd440c"
      },
      "source": [
        "###  Tarea: Cargar el dataset y mostra las primeras muestras"
      ]
    },
    {
      "cell_type": "code",
      "execution_count": null,
      "id": "d931b442",
      "metadata": {
        "id": "d931b442"
      },
      "outputs": [],
      "source": [
        "\n",
        "df = pd.read_csv('https://raw.githubusercontent.com/adiacla/vivienda/refs/heads/main/vivienda_NN.csv')\n",
        "\n",
        "display(df.head())"
      ]
    },
    {
      "cell_type": "markdown",
      "id": "7b813603",
      "metadata": {
        "id": "7b813603"
      },
      "source": [
        "###Tarea: Liste las columnas"
      ]
    },
    {
      "cell_type": "code",
      "execution_count": null,
      "id": "93e19b3f",
      "metadata": {
        "id": "93e19b3f"
      },
      "outputs": [],
      "source": []
    },
    {
      "cell_type": "markdown",
      "id": "a86f5ae8",
      "metadata": {
        "id": "a86f5ae8"
      },
      "source": [
        "### Tarea: Número de filas y columnas en el DataFrame"
      ]
    },
    {
      "cell_type": "code",
      "execution_count": null,
      "id": "adb1114a",
      "metadata": {
        "id": "adb1114a"
      },
      "outputs": [],
      "source": [
        "\n"
      ]
    },
    {
      "cell_type": "markdown",
      "id": "bf27b82f",
      "metadata": {
        "id": "bf27b82f"
      },
      "source": [
        "### Tarea: Verificando los tipos de datos de todas las columnas"
      ]
    },
    {
      "cell_type": "code",
      "execution_count": null,
      "id": "d037bd53",
      "metadata": {
        "id": "d037bd53"
      },
      "outputs": [],
      "source": []
    },
    {
      "cell_type": "markdown",
      "id": "12ba820b",
      "metadata": {
        "id": "12ba820b"
      },
      "source": [
        "### Tarea: Eliminación de filas duplicadas (si existen)\n",
        "\n",
        "- Guardamos las dimensiones originales del DataFrame\n",
        "- Eliminamos duplicados directamente en el DataFrame\n",
        "- Verificamos si hubo cambios"
      ]
    },
    {
      "cell_type": "code",
      "execution_count": null,
      "id": "34df136b",
      "metadata": {
        "id": "34df136b"
      },
      "outputs": [],
      "source": []
    },
    {
      "cell_type": "markdown",
      "id": "696c32a7",
      "metadata": {
        "id": "696c32a7"
      },
      "source": [
        "###  Tarea: Análisis de valores nulos en el DataFrame\n",
        "\n",
        "- Verificar el número total de valores nulos por columna\n",
        "- Verificar el porcentaje de valores nulos por columna\n",
        "- Visualizar los valores nulos con un gráfico de calor con mapa de calor"
      ]
    },
    {
      "cell_type": "code",
      "execution_count": null,
      "id": "12cae8c3",
      "metadata": {
        "id": "12cae8c3"
      },
      "outputs": [],
      "source": []
    },
    {
      "cell_type": "markdown",
      "id": "3dad1960",
      "metadata": {
        "id": "3dad1960"
      },
      "source": [
        "**Conclusión:** Describe aquí tu interpretación del resultado."
      ]
    },
    {
      "cell_type": "markdown",
      "id": "e1fa0d42",
      "metadata": {
        "id": "e1fa0d42"
      },
      "source": [
        "###  Tarea: Mostrar un resumen estadístico de las variables numéricas del DataFrame"
      ]
    },
    {
      "cell_type": "code",
      "execution_count": null,
      "id": "18e2b705",
      "metadata": {
        "id": "18e2b705"
      },
      "outputs": [],
      "source": []
    },
    {
      "cell_type": "markdown",
      "id": "1a101195",
      "metadata": {
        "id": "1a101195"
      },
      "source": [
        "**Conclusión:** Describe aquí tu interpretación del resultado."
      ]
    },
    {
      "cell_type": "markdown",
      "source": [
        "###Tarea determine la cardinalidad de cada una de las características"
      ],
      "metadata": {
        "id": "ZRfvwSWN_UG_"
      },
      "id": "ZRfvwSWN_UG_"
    },
    {
      "cell_type": "code",
      "execution_count": null,
      "id": "8d50ab2d",
      "metadata": {
        "id": "8d50ab2d"
      },
      "outputs": [],
      "source": [
        "\n"
      ]
    },
    {
      "cell_type": "markdown",
      "id": "acc3f517",
      "metadata": {
        "id": "acc3f517"
      },
      "source": [
        "**Conclusión:** Describe aquí tu interpretación del resultado."
      ]
    },
    {
      "cell_type": "markdown",
      "id": "53d7e5c8",
      "metadata": {
        "id": "53d7e5c8"
      },
      "source": [
        "###  Tarea: Mostar la cantidad de datos o frecuencia en cada uno de los valores del dataset\n",
        "- Mostrar la distribución de frecuencias de cada columna seleccionada"
      ]
    },
    {
      "cell_type": "code",
      "execution_count": null,
      "id": "ca1fc694",
      "metadata": {
        "id": "ca1fc694"
      },
      "outputs": [],
      "source": []
    },
    {
      "cell_type": "markdown",
      "id": "de112150",
      "metadata": {
        "id": "de112150"
      },
      "source": [
        "**Conclusión:** Describe aquí tu interpretación del resultado."
      ]
    },
    {
      "cell_type": "markdown",
      "id": "a99e3ef7",
      "metadata": {
        "id": "a99e3ef7"
      },
      "source": [
        "### Tarea: Mapa de correlación de todas las variables numéricas\n",
        "\n",
        "- Calcular la matriz de correlación\n",
        "- Configurar el tamaño de la figura\n",
        "- Crear el mapa de calor Título del gráfico\n"
      ]
    },
    {
      "cell_type": "code",
      "execution_count": null,
      "id": "f7531b52",
      "metadata": {
        "id": "f7531b52"
      },
      "outputs": [],
      "source": []
    },
    {
      "cell_type": "markdown",
      "id": "02ec2eea",
      "metadata": {
        "id": "02ec2eea"
      },
      "source": [
        "**Conclusión:** Describe aquí tu interpretación del resultado."
      ]
    },
    {
      "cell_type": "markdown",
      "id": "c748178a",
      "metadata": {
        "id": "c748178a"
      },
      "source": [
        "# Analisis de normalidad de la variable dependiente para regresion---"
      ]
    },
    {
      "cell_type": "markdown",
      "id": "2ef82522",
      "metadata": {
        "id": "2ef82522"
      },
      "source": [
        "### Tarea:  Analizar la distribución de la variable objetivo con 30 bins usado curva de densidad\n",
        "Histograma con curva de densidad"
      ]
    },
    {
      "cell_type": "code",
      "execution_count": null,
      "id": "33d2597e",
      "metadata": {
        "id": "33d2597e"
      },
      "outputs": [],
      "source": []
    },
    {
      "cell_type": "markdown",
      "id": "7950b270",
      "metadata": {
        "id": "7950b270"
      },
      "source": [
        " **Conclusión:** Describe aquí tu interpretación del resultado."
      ]
    },
    {
      "cell_type": "markdown",
      "source": [
        "### Tarea: Genera un Q-Q plot (Quantile-Quantile plot) de la variable precio\n",
        "El Q-Q plot compara los cuantiles de los datos reales (tu variable precio) con los cuantiles de una distribución normal teórica.\n",
        "\n",
        "Si los puntos se alinean aproximadamente sobre la diagonal, significa que la distribución de precio se acerca a la normalidad.\n",
        "\n",
        "Si los puntos se desvían mucho, entonces precio no sigue una distribución normal."
      ],
      "metadata": {
        "id": "P-g5v1UHz_rJ"
      },
      "id": "P-g5v1UHz_rJ"
    },
    {
      "cell_type": "code",
      "source": [],
      "metadata": {
        "id": "-9KgGfRA0A93"
      },
      "id": "-9KgGfRA0A93",
      "execution_count": null,
      "outputs": []
    },
    {
      "cell_type": "markdown",
      "source": [
        "###Tarea: Ejecuta el test de Shapiro-Wilk para comprobar si la variable precio sigue una distribución normal:\n",
        "\n",
        "stats.shapiro() aplica el test de Shapiro-Wilk.\n",
        "\n",
        "Usamos sample(min(len(df['precio']), 5000)) porque este test solo acepta hasta 5000 observaciones, así que si tu dataset es más grande, se toma una muestra aleatoria.\n",
        "\n",
        "El resultado nos da:\n",
        "\n",
        "estadístico W (cercano a 1 indica normalidad),\n",
        "\n",
        "p-valor (probabilidad de que los datos provengan de una distribución normal)."
      ],
      "metadata": {
        "id": "XeudtFlz0TGH"
      },
      "id": "XeudtFlz0TGH"
    },
    {
      "cell_type": "code",
      "source": [],
      "metadata": {
        "id": "di5-nseT0TOx"
      },
      "id": "di5-nseT0TOx",
      "execution_count": null,
      "outputs": []
    },
    {
      "cell_type": "markdown",
      "source": [
        "### Tarea : Ejecuta el test de Kolmogorov-Smirnov (K-S) para comparar la distribución de precio con una distribución normal:"
      ],
      "metadata": {
        "id": "IpT0tdwX0geQ"
      },
      "id": "IpT0tdwX0geQ"
    },
    {
      "cell_type": "code",
      "source": [],
      "metadata": {
        "id": "z_PZ3Oyz0gm8"
      },
      "id": "z_PZ3Oyz0gm8",
      "execution_count": null,
      "outputs": []
    },
    {
      "cell_type": "markdown",
      "id": "a0072e45",
      "metadata": {
        "id": "a0072e45"
      },
      "source": [
        "###  Tarea: Calcular el sesgo (skewness) de la variable 'precio'"
      ]
    },
    {
      "cell_type": "code",
      "execution_count": null,
      "id": "19204507",
      "metadata": {
        "id": "19204507"
      },
      "outputs": [],
      "source": []
    },
    {
      "cell_type": "markdown",
      "id": "5e9f2278",
      "metadata": {
        "id": "5e9f2278"
      },
      "source": [
        "###  Tarea:  Calcular la curtosis (kurtosis) de la variable 'precio'\n"
      ]
    },
    {
      "cell_type": "code",
      "execution_count": null,
      "id": "9b6b1e9c",
      "metadata": {
        "id": "9b6b1e9c"
      },
      "outputs": [],
      "source": []
    },
    {
      "cell_type": "markdown",
      "id": "e05d2dae",
      "metadata": {
        "id": "e05d2dae"
      },
      "source": [
        " **Conclusión:** Haga Una conclusión con respecto a la normalidad."
      ]
    },
    {
      "cell_type": "code",
      "execution_count": null,
      "id": "c5efc637",
      "metadata": {
        "id": "c5efc637"
      },
      "outputs": [],
      "source": []
    },
    {
      "cell_type": "markdown",
      "id": "7012b3a2",
      "metadata": {
        "id": "7012b3a2"
      },
      "source": [
        "###  Tarea:   Diagramas de caja y bigotes (3 por fila) excluyendo variables binarias\n",
        "- Variables a excluir Seleccionar solo columnas numéricas, excluyendo las binarias\n",
        "- Definir número de columnas en la cuadrícula\n",
        "- Crear subplots Graficar cada boxplot\n",
        "- Eliminar ejes vacíos"
      ]
    },
    {
      "cell_type": "code",
      "execution_count": null,
      "id": "6abfea22",
      "metadata": {
        "id": "6abfea22"
      },
      "outputs": [],
      "source": []
    },
    {
      "cell_type": "markdown",
      "id": "2faf25a1",
      "metadata": {
        "id": "2faf25a1"
      },
      "source": [
        " **Conclusión:** Describe aquí tu interpretación del resultado."
      ]
    },
    {
      "cell_type": "markdown",
      "id": "ab1acf1e",
      "metadata": {
        "id": "ab1acf1e"
      },
      "source": [
        "### Tarea: Eliminar outliers en la variable 'precio' usando IQR\n",
        "- Calcular Q1 y Q3 Definir límite superior\n",
        "- Filtrar filas (mantener solo precios dentro del rango aceptable)"
      ]
    },
    {
      "cell_type": "code",
      "execution_count": null,
      "id": "a045f969",
      "metadata": {
        "id": "a045f969"
      },
      "outputs": [],
      "source": []
    },
    {
      "cell_type": "markdown",
      "id": "4951362c",
      "metadata": {
        "id": "4951362c"
      },
      "source": [
        " **Conclusión:** Describe aquí tu interpretación del resultado."
      ]
    },
    {
      "cell_type": "markdown",
      "id": "bda7cc22",
      "metadata": {
        "id": "bda7cc22"
      },
      "source": [
        "###  Tarea: Boxplot de la variable 'precio'"
      ]
    },
    {
      "cell_type": "code",
      "execution_count": null,
      "id": "a2d40eee",
      "metadata": {
        "id": "a2d40eee"
      },
      "outputs": [],
      "source": []
    },
    {
      "cell_type": "markdown",
      "id": "bN-aBP_JcaIw",
      "metadata": {
        "id": "bN-aBP_JcaIw"
      },
      "source": [
        "###Tarea: Nuevamente verifiquemos cómo quedó la distribución de frecuencia de la variable 'precio'"
      ]
    },
    {
      "cell_type": "code",
      "execution_count": null,
      "id": "gcO0gNQ9cVuO",
      "metadata": {
        "id": "gcO0gNQ9cVuO"
      },
      "outputs": [],
      "source": []
    },
    {
      "cell_type": "markdown",
      "id": "72e4f87f",
      "metadata": {
        "id": "72e4f87f"
      },
      "source": [
        "**Conclusión:** Describe aquí tu interpretación del resultado."
      ]
    },
    {
      "cell_type": "code",
      "execution_count": null,
      "id": "332f6fe4",
      "metadata": {
        "id": "332f6fe4"
      },
      "outputs": [],
      "source": []
    },
    {
      "cell_type": "markdown",
      "id": "c6c1e0b0",
      "metadata": {
        "id": "c6c1e0b0"
      },
      "source": [
        " **Conclusión:** Describe aquí tu interpretación del resultado."
      ]
    },
    {
      "cell_type": "markdown",
      "id": "f9282a71",
      "metadata": {
        "id": "f9282a71"
      },
      "source": [
        "# <center> 4. Data Manipulation"
      ]
    },
    {
      "cell_type": "markdown",
      "id": "3adbc620",
      "metadata": {
        "id": "3adbc620"
      },
      "source": [
        "###  Tarea: División del dataset en conjuntos de entrenamiento y prueba\n",
        "\n",
        "- Reemplazar espacios en los nombres de columnas por \"_\"\n",
        "- Separar variables predictoras (X) y variable objetivo (Y)\n",
        "- Dividir los datos (80% entrenamiento, 20% prueba)"
      ]
    },
    {
      "cell_type": "code",
      "execution_count": null,
      "id": "64e7a2fd",
      "metadata": {
        "id": "64e7a2fd"
      },
      "outputs": [],
      "source": []
    },
    {
      "cell_type": "markdown",
      "id": "f69055d4",
      "metadata": {
        "id": "f69055d4"
      },
      "source": [
        " **Conclusión:** Describe aquí tu interpretación del resultado."
      ]
    },
    {
      "cell_type": "markdown",
      "id": "531f2577",
      "metadata": {
        "id": "531f2577"
      },
      "source": [
        "### Tarea:  Escalado de características (Estandarización)\n",
        "- Inicializamos el escalador\n",
        "- Estandarización del conjunto de entrenamiento\n",
        "- Estandarización del conjunto de prueba ----"
      ]
    },
    {
      "cell_type": "code",
      "execution_count": null,
      "id": "25047e24",
      "metadata": {
        "id": "25047e24"
      },
      "outputs": [],
      "source": []
    },
    {
      "cell_type": "markdown",
      "id": "939a3e83",
      "metadata": {
        "id": "939a3e83"
      },
      "source": [
        " **Conclusión:** Describe aquí tu interpretación del resultado."
      ]
    },
    {
      "cell_type": "markdown",
      "id": "3641461f",
      "metadata": {
        "id": "3641461f"
      },
      "source": [
        "### Tarea:   Guardar y cargar el modelo de normalización\n",
        "- Guardar el modelo entrenado de StandardScaler"
      ]
    },
    {
      "cell_type": "code",
      "execution_count": null,
      "id": "31c8532c",
      "metadata": {
        "id": "31c8532c"
      },
      "outputs": [],
      "source": []
    },
    {
      "cell_type": "markdown",
      "id": "c30e447a",
      "metadata": {
        "id": "c30e447a"
      },
      "source": [
        "**Conclusión:** Describe aquí tu interpretación del resultado."
      ]
    },
    {
      "cell_type": "markdown",
      "id": "d77a46a9",
      "metadata": {
        "id": "d77a46a9"
      },
      "source": [
        "## Tarea: Definir la función para crear el modelo keras\n",
        "\n",
        "Crear una función que construya un modelo de red neuronal con la arquitectura especificada (capas densas con activación ReLU) y compile el modelo con un optimizador y métricas. Esta función tomará hiperparámetros como argumentos.\n",
        "Configure de forma automática el número de capas ocultas y de neuronas por capa según el valor de n_layers:\n",
        "\n",
        "Si n_layers = 1 → una capa con 32 neuronas.\n",
        "\n",
        "Si n_layers = 2 → dos capas con 32 y 16 neuronas.\n",
        "\n",
        "Si n_layers = 3 → tres capas con 64, 32 y 16 neuronas."
      ]
    },
    {
      "cell_type": "code",
      "execution_count": null,
      "id": "cf54c6dd",
      "metadata": {
        "id": "cf54c6dd"
      },
      "outputs": [],
      "source": []
    },
    {
      "cell_type": "markdown",
      "id": "ab1784bb",
      "metadata": {
        "id": "ab1784bb"
      },
      "source": [
        "**Conclusión**:\n",
        "\n",
        "\n"
      ]
    },
    {
      "cell_type": "markdown",
      "source": [
        "###Tarea: Configura los callbacks que te ayudarán a mejorar el entrenamiento:\n",
        "\n",
        "EarlyStopping: detiene el entrenamiento si la pérdida en validación (val_loss) deja de mejorar después de varios intentos.\n",
        "\n",
        "TensorBoard: guarda registros de entrenamiento para visualizarlos en TensorBoard."
      ],
      "metadata": {
        "id": "CGZ6C6U_30Ft"
      },
      "id": "CGZ6C6U_30Ft"
    },
    {
      "cell_type": "code",
      "execution_count": null,
      "id": "jBYoRsnJh6yv",
      "metadata": {
        "id": "jBYoRsnJh6yv"
      },
      "outputs": [],
      "source": []
    },
    {
      "cell_type": "markdown",
      "id": "7a182576",
      "metadata": {
        "id": "7a182576"
      },
      "source": [
        "## Tarea: Definir el espacio de hiperparámetros\n",
        "\n",
        "\n",
        "*Definir hiperparámetros:*\n",
        "Antes de entrenar una red neuronal, debemos decidir valores como el número de capas, tasa de aprendizaje (learning_rate), tamaño de lote (batch_size) y número de épocas (epochs).\n",
        "\n",
        "Como no sabemos cuáles son los mejores, usamos una rejilla de búsqueda (grid search) con diferentes combinaciones.\n",
        "\n",
        "**Recorrer las combinaciones:**\n",
        "Usaremos itertools.product para iterar sobre todas las combinaciones posibles en param_grid.\n",
        "\n",
        "**Entrenar y evaluar cada combinación:**\n",
        "\n",
        "- onstruimos el modelo con build_model.\n",
        "\n",
        "- Entrenamos con fit, usando EarlyStopping y TensorBoard si queremos.\n",
        "\n",
        "- Evaluamos el desempeño en los datos de validación.\n",
        "\n",
        "- Guardamos los resultados para comparar después.\n",
        "\n",
        "**Elegir la mejor combinación:**\n",
        "\n",
        "Comparamos las métricas de error (ejemplo: val_loss o val_mae) y seleccionamos los hiperparámetros que den el mejor rendimiento."
      ]
    },
    {
      "cell_type": "markdown",
      "source": [
        "**Objetivo:** Definir un conjunto de hiperparámetros para explorar diferentes configuraciones de tu red neuronal de regresión. Los hiperparámetros son valores que controlan la arquitectura y el entrenamiento del modelo, y no se aprenden directamente de los datos.\n",
        "\n",
        "**Qué hacer:**\n",
        "\n",
        "Crear un diccionario llamado param_grid.\n",
        "\n",
        "Dentro de este diccionario, definir las siguientes claves y sus posibles valores:\n",
        "\n",
        "- \"n_layers\": número de capas ocultas de la red. Por ejemplo, [1, 2, 3].\n",
        "\n",
        "- \"learning_rate\": tasa de aprendizaje para el optimizador, como [0.001, 0.1, 0.3].\n",
        "\n",
        "- \"batch_size\": tamaño del lote de entrenamiento, como [32, 64].\n",
        "\n",
        "- \"epochs\": número de épocas para entrenar cada modelo, como [50, 100]."
      ],
      "metadata": {
        "id": "HhqiH2qa8-Fk"
      },
      "id": "HhqiH2qa8-Fk"
    },
    {
      "cell_type": "code",
      "execution_count": null,
      "id": "c191ebb6",
      "metadata": {
        "id": "c191ebb6"
      },
      "outputs": [],
      "source": []
    },
    {
      "cell_type": "markdown",
      "source": [
        "###Tarea Guardar resultados de entrenamiento\n",
        "\n",
        "Objetivo: Durante la exploración de diferentes combinaciones de hiperparámetros, necesitamos guardar los resultados de cada modelo para compararlos después y elegir el mejor.\n",
        "\n",
        "\n",
        "Crear una lista vacía llamada resultados antes de iniciar los bucles de entrenamiento."
      ],
      "metadata": {
        "id": "EWm-HfdM9FUz"
      },
      "id": "EWm-HfdM9FUz"
    },
    {
      "cell_type": "code",
      "source": [],
      "metadata": {
        "id": "mx1eqE1F4tIT"
      },
      "id": "mx1eqE1F4tIT",
      "execution_count": null,
      "outputs": []
    },
    {
      "cell_type": "markdown",
      "source": [
        "Iterar sobre combinaciones de hiperparámetros\n",
        "\n",
        "Objetivo: Queremos probar todas las combinaciones posibles de hiperparámetros definidos en param_grid para encontrar la configuración que produzca el mejor desempeño de nuestra red neuronal.\n",
        "\n",
        "Qué hacer:\n",
        "\n",
        "Usar itertools.product para generar todas las combinaciones posibles de:\n",
        "\n",
        "Número de capas (n_layers)\n",
        "\n",
        "Tasa de aprendizaje (learning_rate)\n",
        "\n",
        "Tamaño de lote (batch_size)\n",
        "\n",
        "Número de épocas (epochs)\n",
        "\n",
        "Crear un bucle for que recorra cada combinación.\n",
        "\n",
        "Dentro del bucle, puedes entrenar tu modelo con esa combinación y guardar los resultados."
      ],
      "metadata": {
        "id": "K7dBBspr9PuP"
      },
      "id": "K7dBBspr9PuP"
    },
    {
      "cell_type": "code",
      "execution_count": null,
      "id": "-P4dUxtcn7U_",
      "metadata": {
        "id": "-P4dUxtcn7U_"
      },
      "outputs": [],
      "source": []
    },
    {
      "cell_type": "markdown",
      "source": [
        "### Tarea Entrenamiento y evaluación de modelos con todas las combinaciones de hiperparámetros\n",
        "\n",
        "**Objetivo:**\n",
        "Entrenar la red neuronal para todas las combinaciones posibles de hiperparámetros definidas en param_grid y evaluar su desempeño en entrenamiento y validación.\n",
        "\n",
        "Pasos a seguir:\n",
        "**bold text**\n",
        "Iterar sobre todas las combinaciones de hiperparámetros usando itertools.product:\n",
        "\n",
        "- Número de capas (n_layers)\n",
        "\n",
        "- Tasa de aprendizaje (learning_rate)\n",
        "\n",
        "- Tamaño de lote (batch_size)\n",
        "\n",
        "- Número de épocas (epochs)\n",
        "\n",
        "- Construir el modelo con la función build_model pasando el número de capas y la tasa de aprendizaje correspondiente.\n",
        "\n",
        "**Entrenar el modelo usando model.fit:**\n",
        "\n",
        "- Dividir los datos en entrenamiento y validación con validation_split=0.2.\n",
        "\n",
        "- Usar early_stopping para detener el entrenamiento si la validación deja de mejorar.\n",
        "\n",
        "- Guardar el historial de métricas para extraer posteriormente el MSE y MAE.\n",
        "\n",
        "**Extraer métricas finales:**\n",
        "\n",
        "- train_mse → error cuadrático medio en entrenamiento.\n",
        "\n",
        "- val_mse → error cuadrático medio en validación.\n",
        "\n",
        "- val_mae → error absoluto medio en validación.\n",
        "\n",
        "- Mostrar estas métricas para cada combinación.\n",
        "\n",
        "Guardar los resultados en la lista resultados para poder comparar todas las combinaciones y seleccionar la mejor."
      ],
      "metadata": {
        "id": "nmwZxtsB9hFd"
      },
      "id": "nmwZxtsB9hFd"
    },
    {
      "cell_type": "code",
      "source": [],
      "metadata": {
        "id": "LsG_l4zO5qRI"
      },
      "id": "LsG_l4zO5qRI",
      "execution_count": null,
      "outputs": []
    },
    {
      "cell_type": "markdown",
      "source": [
        "###Tarea Seleccionar el mejor modelo según el MSE de validación\n",
        "\n",
        "**Objetivo:**\n",
        "Identificar la combinación de hiperparámetros que minimiza el error cuadrático medio (MSE) en los datos de validación para garantizar un modelo que generalice bien."
      ],
      "metadata": {
        "id": "yKG2x8n-95hy"
      },
      "id": "yKG2x8n-95hy"
    },
    {
      "cell_type": "code",
      "execution_count": null,
      "id": "eba59d15",
      "metadata": {
        "id": "eba59d15"
      },
      "outputs": [],
      "source": []
    },
    {
      "cell_type": "markdown",
      "source": [
        "### Tarea: Seleccione el mejor modelo y reentrene con los parametros"
      ],
      "metadata": {
        "id": "zGjGm-Ib8TUz"
      },
      "id": "zGjGm-Ib8TUz"
    },
    {
      "cell_type": "code",
      "source": [],
      "metadata": {
        "id": "x44bqEHC8ZNh"
      },
      "id": "x44bqEHC8ZNh",
      "execution_count": null,
      "outputs": []
    },
    {
      "cell_type": "markdown",
      "source": [
        "###Tarea mostrar gráficas del loss y del MSE\n",
        "Durante el entrenamiento y la validación, puedes usar matplotlib y los datos almacenados en history.history de Keras."
      ],
      "metadata": {
        "id": "1wuaVagl-hb0"
      },
      "id": "1wuaVagl-hb0"
    },
    {
      "cell_type": "code",
      "source": [],
      "metadata": {
        "id": "EpuslXcd-k8E"
      },
      "id": "EpuslXcd-k8E",
      "execution_count": null,
      "outputs": []
    },
    {
      "cell_type": "markdown",
      "source": [
        "###Tarea: Guardar el mejor modelo (persistencia)"
      ],
      "metadata": {
        "id": "6fAuxH6d8lHP"
      },
      "id": "6fAuxH6d8lHP"
    },
    {
      "cell_type": "code",
      "source": [],
      "metadata": {
        "id": "_tekwhWJ8kXA"
      },
      "id": "_tekwhWJ8kXA",
      "execution_count": null,
      "outputs": []
    }
  ],
  "metadata": {
    "accelerator": "GPU",
    "colab": {
      "gpuType": "T4",
      "provenance": []
    },
    "kernelspec": {
      "display_name": "Python 3",
      "name": "python3"
    },
    "language_info": {
      "name": "python"
    }
  },
  "nbformat": 4,
  "nbformat_minor": 5
}